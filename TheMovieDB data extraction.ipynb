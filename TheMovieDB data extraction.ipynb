{
 "cells": [
  {
   "cell_type": "markdown",
   "metadata": {},
   "source": [
    "## [The Movie DB](https://www.google.com/url?sa=t&rct=j&q=&esrc=s&source=web&cd=&ved=2ahUKEwjrpJy5sqTvAhUXt54KHSAyDqwQFjAAegQIARAE&url=https%3A%2F%2Fwww.themoviedb.org%2F&usg=AOvVaw35vmMbi7NM_O8Cgy2vNISU) -- Movies\n",
    "\n",
    "### Aim:\n",
    "To practice different HTTP request and extracting values from complex lists and nested dictionaries by working on Themoviedb movie database.\n",
    "### Lesson:\n",
    "Using APIs and reading documentation to extract data\n",
    "\n",
    "[**the documentation**](https://developers.themoviedb.org/3/account). "
   ]
  },
  {
   "cell_type": "code",
   "execution_count": 2,
   "metadata": {},
   "outputs": [],
   "source": [
    "import requests\n",
    "from IPython.display import JSON"
   ]
  },
  {
   "cell_type": "markdown",
   "metadata": {},
   "source": [
    "## Demo"
   ]
  },
  {
   "cell_type": "code",
   "execution_count": 2,
   "metadata": {},
   "outputs": [],
   "source": [
    "base = \"https://api.themoviedb.org/3\"\n",
    "url = \"/search/movie\"\n",
    "\n",
    "query = 'titanic'\n",
    "api_key = 'your-key'\n",
    "params = f'?query={query}&api_key={api_key}' "
   ]
  },
  {
   "cell_type": "code",
   "execution_count": 3,
   "metadata": {},
   "outputs": [],
   "source": [
    "res = requests.get(base+url+params)"
   ]
  },
  {
   "cell_type": "code",
   "execution_count": 4,
   "metadata": {},
   "outputs": [
    {
     "data": {
      "text/plain": [
       "401"
      ]
     },
     "execution_count": 4,
     "metadata": {},
     "output_type": "execute_result"
    }
   ],
   "source": [
    "res.status_code"
   ]
  },
  {
   "cell_type": "code",
   "execution_count": 5,
   "metadata": {},
   "outputs": [
    {
     "data": {
      "text/plain": [
       "{'status_code': 7,\n",
       " 'status_message': 'Invalid API key: You must be granted a valid key.',\n",
       " 'success': False}"
      ]
     },
     "execution_count": 5,
     "metadata": {},
     "output_type": "execute_result"
    }
   ],
   "source": [
    "res.json()"
   ]
  },
  {
   "cell_type": "markdown",
   "metadata": {},
   "source": [
    "## Task\n",
    "#### Search for you favorite movie and return the information about the movie:\n",
    "- name\n",
    "- release date\n",
    "- runtime\n",
    "- revenue\n",
    "- length of the overview\n",
    "- number of votes\n",
    "- voting average"
   ]
  },
  {
   "cell_type": "code",
   "execution_count": 12,
   "metadata": {},
   "outputs": [],
   "source": [
    "# API key\n",
    "api_key = \"------------------\"\n",
    "\n",
    "url = \"https://api.themoviedb.org/3\"\n",
    "movie_query = \"Terminator\"\n",
    "\n",
    "#append url\n",
    "search_movie_url = f\"/search/movie?api_key={api_key}&query={movie_query}\"\n",
    "\n",
    "# get\n",
    "search_movie_res = requests.get(url + search_movie_url)"
   ]
  },
  {
   "cell_type": "code",
   "execution_count": 7,
   "metadata": {},
   "outputs": [
    {
     "name": "stdout",
     "output_type": "stream",
     "text": [
      "200\n"
     ]
    }
   ],
   "source": [
    "print(search_movie_res.status_code)"
   ]
  },
  {
   "cell_type": "code",
   "execution_count": 8,
   "metadata": {},
   "outputs": [
    {
     "name": "stdout",
     "output_type": "stream",
     "text": [
      "{'name': 'Terminator: Dark Fate', 'id': 290859, 'release_date': '2019-10-23'}\n",
      "{'name': 'Terminator Genisys', 'id': 87101, 'release_date': '2015-06-23'}\n",
      "{'name': 'The Terminator', 'id': 218, 'release_date': '1984-10-26'}\n",
      "{'name': 'Terminator Salvation', 'id': 534, 'release_date': '2009-05-20'}\n",
      "{'name': 'Terminator 2: Judgment Day', 'id': 280, 'release_date': '1991-07-03'}\n",
      "{'name': 'Terminator 3: Rise of the Machines', 'id': 296, 'release_date': '2003-07-02'}\n",
      "{'name': 'Mortal Kombat Terminator', 'id': 576605, 'release_date': '1998-10-03'}\n",
      "{'name': 'Ninja Terminator', 'id': 40027, 'release_date': '1985-01-01'}\n",
      "{'name': 'Terminator Woman', 'id': 55459, 'release_date': '1993-06-30'}\n",
      "{'name': 'Terminator the Second', 'id': 233341, 'release_date': '2013-11-01'}\n",
      "{'name': 'Terminator: Salvation The Machinima Series', 'id': 222148, 'release_date': '2009-05-18'}\n",
      "{'name': 'Alien Terminator', 'id': 133360, 'release_date': '1996-10-09'}\n",
      "{'name': 'T2: Reprogramming The Terminator', 'id': 503718, 'release_date': '2017-11-23'}\n",
      "{'name': 'Russian Terminator', 'id': 86223, 'release_date': '1989-12-12'}\n",
      "{'name': 'Terminator', 'id': 585057, 'release_date': '1991-01-01'}\n",
      "{'name': \"The Making of 'Terminator 2: Judgment Day'\", 'id': 473793, 'release_date': '1991-01-01'}\n",
      "{'name': 'Batman vs. Terminator', 'id': 390375, 'release_date': '2016-03-22'}\n",
      "{'name': 'Batman vs. The Terminator', 'id': 257256, 'release_date': '2014-02-22'}\n",
      "{'name': 'Boyong Mañalac, Hoodlum Terminator', 'id': 353425, 'release_date': '1991-06-20'}\n",
      "{'name': 'Terminator - a film about JT LeRoy', 'id': 474586, 'release_date': '2002-04-01'}\n"
     ]
    },
    {
     "name": "stdin",
     "output_type": "stream",
     "text": [
      " 290859\n"
     ]
    },
    {
     "data": {
      "application/json": {
       "page": 1,
       "results": [
        {
         "adult": false,
         "backdrop_path": "/a6cDxdwaQIFjSkXf7uskg78ZyTq.jpg",
         "genre_ids": [
          28,
          12,
          878
         ],
         "id": 290859,
         "original_language": "en",
         "original_title": "Terminator: Dark Fate",
         "overview": "Decades after Sarah Connor prevented Judgment Day, a lethal new Terminator is sent to eliminate the future leader of the resistance. In a fight to save mankind, battle-hardened Sarah Connor teams up with an unexpected ally and an enhanced super soldier to stop the deadliest Terminator yet.",
         "popularity": 145.183,
         "poster_path": "/vqzNJRH4YyquRiWxCCOH0aXggHI.jpg",
         "release_date": "2019-10-23",
         "title": "Terminator: Dark Fate",
         "video": false,
         "vote_average": 6.5,
         "vote_count": 2802
        },
        {
         "adult": false,
         "backdrop_path": "/g4a5YLWwi6OCp8TcvxsUNrXMbN5.jpg",
         "genre_ids": [
          28,
          12,
          878,
          53
         ],
         "id": 87101,
         "original_language": "en",
         "original_title": "Terminator Genisys",
         "overview": "The year is 2029. John Connor, leader of the resistance continues the war against the machines. At the Los Angeles offensive, John's fears of the unknown future begin to emerge when TECOM spies reveal a new plot by SkyNet that will attack him from both fronts; past and future, and will ultimately change warfare forever.",
         "popularity": 56.104,
         "poster_path": "/oZRVDpNtmHk8M1VYy1aeOWUXgbC.jpg",
         "release_date": "2015-06-23",
         "title": "Terminator Genisys",
         "video": false,
         "vote_average": 5.9,
         "vote_count": 6290
        },
        {
         "adult": false,
         "backdrop_path": "/wh4ze6klUbeichAj603OKZwY1W5.jpg",
         "genre_ids": [
          28,
          878,
          53
         ],
         "id": 218,
         "original_language": "en",
         "original_title": "The Terminator",
         "overview": "In the post-apocalyptic future, reigning tyrannical supercomputers teleport a cyborg assassin known as the \"Terminator\" back to 1984 to kill Sarah Connor, whose unborn son is destined to lead insurgents against 21st century mechanical hegemony. Meanwhile, the human-resistance movement dispatches a lone warrior to safeguard Sarah. Can he stop the virtually indestructible killing machine?",
         "popularity": 52.598,
         "poster_path": "/qvktm0BHcnmDpul4Hz01GIazWPr.jpg",
         "release_date": "1984-10-26",
         "title": "The Terminator",
         "video": false,
         "vote_average": 7.6,
         "vote_count": 8653
        },
        {
         "adult": false,
         "backdrop_path": "/lsEyk8OailuOQmobKknWgXfypfb.jpg",
         "genre_ids": [
          28,
          878,
          53
         ],
         "id": 534,
         "original_language": "en",
         "original_title": "Terminator Salvation",
         "overview": "All grown up in post-apocalyptic 2018, John Connor must lead the resistance of humans against the increasingly dominating militaristic robots. But when Marcus Wright appears, his existence confuses the mission as Connor tries to determine whether Wright has come from the future or the past -- and whether he's friend or foe.",
         "popularity": 32.173,
         "poster_path": "/gw6JhlekZgtKUFlDTezq3j5JEPK.jpg",
         "release_date": "2009-05-20",
         "title": "Terminator Salvation",
         "video": false,
         "vote_average": 6,
         "vote_count": 4558
        },
        {
         "adult": false,
         "backdrop_path": "/pC9vQ5miLgdHSPIsgfU5A9pcTpF.jpg",
         "genre_ids": [
          28,
          878,
          53
         ],
         "id": 280,
         "original_language": "en",
         "original_title": "Terminator 2: Judgment Day",
         "overview": "Nearly 10 years have passed since Sarah Connor was targeted for termination by a cyborg from the future. Now her son, John, the future leader of the resistance, is the target for a newer, more deadly terminator. Once again, the resistance has managed to send a protector back to attempt to save John and his mother Sarah.",
         "popularity": 47.202,
         "poster_path": "/wcJFUcbPfXJRXRNXNFfF0W6dpx.jpg",
         "release_date": "1991-07-03",
         "title": "Terminator 2: Judgment Day",
         "video": false,
         "vote_average": 8,
         "vote_count": 8478
        },
        {
         "adult": false,
         "backdrop_path": "/3X43GIuFnadD2dFkT3TQePrag7y.jpg",
         "genre_ids": [
          28,
          53,
          878
         ],
         "id": 296,
         "original_language": "en",
         "original_title": "Terminator 3: Rise of the Machines",
         "overview": "It's been 10 years since John Connor saved Earth from Judgment Day, and he's now living under the radar, steering clear of using anything Skynet can trace. That is, until he encounters T-X, a robotic assassin ordered to finish what T-1000 started. Good thing Connor's former nemesis, the Terminator, is back to aid the now-adult Connor … just like he promised.",
         "popularity": 31.837,
         "poster_path": "/vvevzdYIrk2636maNW4qeWmlPFG.jpg",
         "release_date": "2003-07-02",
         "title": "Terminator 3: Rise of the Machines",
         "video": false,
         "vote_average": 6.1,
         "vote_count": 4489
        },
        {
         "adult": false,
         "backdrop_path": null,
         "genre_ids": [
          28,
          12,
          14
         ],
         "id": 576605,
         "original_language": "en",
         "original_title": "Mortal Kombat Terminator",
         "overview": "",
         "popularity": 7.162,
         "poster_path": "/6rUGUUVvA9U8V9JI5Vay8mkyMdJ.jpg",
         "release_date": "1998-10-03",
         "title": "Mortal Kombat Terminator",
         "video": false,
         "vote_average": 3,
         "vote_count": 1
        },
        {
         "adult": false,
         "backdrop_path": null,
         "genre_ids": [
          28
         ],
         "id": 40027,
         "original_language": "en",
         "original_title": "Ninja Terminator",
         "overview": "Three martial-arts students search for the Golden Ninja Warrior, a statue reputed to have magic powers. Ninja mayhem by Godfrey Ho intercut with multiple scenes from Stafferyui Bulcheonggaek",
         "popularity": 4.649,
         "poster_path": "/5YkYpKxTQVq4gna3qTztwwwo8YF.jpg",
         "release_date": "1985-01-01",
         "title": "Ninja Terminator",
         "video": false,
         "vote_average": 6.3,
         "vote_count": 20
        },
        {
         "adult": false,
         "backdrop_path": null,
         "genre_ids": [
          28,
          53
         ],
         "id": 55459,
         "original_language": "en",
         "original_title": "Terminator Woman",
         "overview": "Two LA cops, Julie and Jay, must return Marsalas to Africa to stand trial as the chief state witness against international villain Alex Gatelee. Gatelee, into everything from gold smuggling to female slave trade, hijacks the party. In a vicious shoot out Julie and Jay overcome Gatelee's men. Gatelee then has Julie kidnapped from one of his nightclubs. He tries to use Julie as bait to get Jay to hand over Marsalas in exchange for Julie...",
         "popularity": 3.772,
         "poster_path": "/eGAxBO3RuDgkbxv9ul03SSjkiOO.jpg",
         "release_date": "1993-06-30",
         "title": "Terminator Woman",
         "video": false,
         "vote_average": 4.7,
         "vote_count": 3
        },
        {
         "adult": false,
         "backdrop_path": null,
         "genre_ids": [
          28,
          878,
          53
         ],
         "id": 233341,
         "original_language": "en",
         "original_title": "Terminator the Second",
         "overview": "Terminator the Second is the premiere production of the Nashville performance collective, Husky Jackal Theater. A product of nearly a year of research and revision, the script tells the story of a boy and his cyborg protector entirely in lines and phrases taken from the plays of William Shakespeare. Each line and phrase is taken from original folios, with only proper nouns, pronouns and corresponding verb tenses subject to change. In doing so, the authors were able to accurately recreate the story of Terminator 2: Judgement Day, while remaining true to the words of Shakespeare in form, if less so in intent.",
         "popularity": 2.59,
         "poster_path": null,
         "release_date": "2013-11-01",
         "title": "Terminator the Second",
         "video": false,
         "vote_average": 3.2,
         "vote_count": 3
        },
        {
         "adult": false,
         "backdrop_path": null,
         "genre_ids": [
          28,
          12,
          16
         ],
         "id": 222148,
         "original_language": "en",
         "original_title": "Terminator: Salvation The Machinima Series",
         "overview": "In the Year 2016, Resistance fighter Blair Williams embarks on a deadly mission to search for a threat that is weakening humanity's defense against the self-aware artificial intelligence called Skynet and it's lethal Terminators.",
         "popularity": 8.86,
         "poster_path": "/y3QirsXGRjUv8O1PWcKDybI5NsV.jpg",
         "release_date": "2009-05-18",
         "title": "Terminator: Salvation The Machinima Series",
         "video": false,
         "vote_average": 7.2,
         "vote_count": 11
        },
        {
         "adult": false,
         "backdrop_path": null,
         "genre_ids": [
          878,
          27
         ],
         "id": 133360,
         "original_language": "en",
         "original_title": "Alien Terminator",
         "overview": "Five miles below the Earth's surface, a group of scientists is working in self-imposed isolation, perfecting a series of DNA experiments that could literally change the world. But when one of those experiments goes awry, it unleashes a nearly immortal organism--one capable of instant regeneration, and with an insatiable appetite for living flesh. Soon, nothing can contain the creature, and with the lab's life support systems quickly shutting down, the scientists grimly prepare for their final battle...  A small group of scientists are working in self-imposed isolation below the Earth's surface. They are all working to create DNA which could change the world, but one of the scientists have been given an secret assignment, and when the assignment goes wrong, all hell breaks lose. The new creation is now aboard the ship and will destroy anyone who gets in its way, as it moves towards the surface.",
         "popularity": 3.302,
         "poster_path": "/4LsdnTWNmgtuzPWyUGmmyBoRmf0.jpg",
         "release_date": "1996-10-09",
         "title": "Alien Terminator",
         "video": false,
         "vote_average": 2.3,
         "vote_count": 7
        },
        {
         "adult": false,
         "backdrop_path": null,
         "genre_ids": [
          99
         ],
         "id": 503718,
         "original_language": "en",
         "original_title": "T2: Reprogramming The Terminator",
         "overview": "This retrospective documentary focuses on the cast and crew reminiscing about the making of the film and its legacy. It features new interviews James Cameron, William Wisher, Arnold Schwarzenegger, Robert Patrick, Joe Morton, Edward Furlong, Brad Fiedel, Mario Kassar, Stephanie Austin, Adam Greenberg and Dennis Murren.",
         "popularity": 4.566,
         "poster_path": "/vQUbuyFslWuRfCd44uaba9Qf0ev.jpg",
         "release_date": "2017-11-23",
         "title": "T2: Reprogramming The Terminator",
         "video": false,
         "vote_average": 7.8,
         "vote_count": 3
        },
        {
         "adult": false,
         "backdrop_path": "/sFArCNsoAUNE3h0ubhZ3rgu5Pij.jpg",
         "genre_ids": [
          28
         ],
         "id": 86223,
         "original_language": "en",
         "original_title": "Russian Terminator",
         "overview": "An ex-mercenary is enlisted back into the life to rescue the boyfriend of the daughter of a powerful mogul.",
         "popularity": 2.269,
         "poster_path": "/bwmzxJggFrpJjjljXKn6QX0GopC.jpg",
         "release_date": "1989-12-12",
         "title": "Russian Terminator",
         "video": false,
         "vote_average": 5,
         "vote_count": 4
        },
        {
         "adult": false,
         "backdrop_path": null,
         "genre_ids": [
          878,
          28
         ],
         "id": 585057,
         "original_language": "en",
         "original_title": "Terminator",
         "overview": "A cyborg comes from the future, to kill a girl named Sarah Lee.",
         "popularity": 1.558,
         "poster_path": "/42eEt7TLLxmMgbHxQGR72ty1N2M.jpg",
         "release_date": "1991-01-01",
         "title": "Terminator",
         "video": false,
         "vote_average": 0,
         "vote_count": 0
        },
        {
         "adult": false,
         "backdrop_path": "/kWH43qHgNatlZ1DEpuxqNqiRbbO.jpg",
         "genre_ids": [
          99
         ],
         "id": 473793,
         "original_language": "en",
         "original_title": "The Making of 'Terminator 2: Judgment Day'",
         "overview": "Documentary of the making of the sequel to the popular Schwarzenegger film, The Terminator.",
         "popularity": 5.622,
         "poster_path": "/m0k3vRqh4eVZONufDahNufHi8Em.jpg",
         "release_date": "1991-01-01",
         "title": "The Making of 'Terminator 2: Judgment Day'",
         "video": false,
         "vote_average": 7.3,
         "vote_count": 7
        },
        {
         "adult": false,
         "backdrop_path": null,
         "genre_ids": [],
         "id": 390375,
         "original_language": "en",
         "original_title": "Batman vs. Terminator",
         "overview": "Batman fights Terminator. In Stop-motion.",
         "popularity": 1.4,
         "poster_path": null,
         "release_date": "2016-03-22",
         "title": "Batman vs. Terminator",
         "video": false,
         "vote_average": 1.5,
         "vote_count": 2
        },
        {
         "adult": false,
         "backdrop_path": null,
         "genre_ids": [
          16
         ],
         "id": 257256,
         "original_language": "en",
         "original_title": "Batman vs. The Terminator",
         "overview": "30 years have passed since Bruce Wayne survived Skynet's nuclear blasts in August of '97. Iron demons now roam the planet, and without the requirement to defend the innocent against crime and injustice, Wayne has seeked refuge in the bomb shelter that saved his life; the Batcave.  Having scavenged the wasteland for resources, he discovers the radio of a dead soldier. There is static over a frequency. Flesh and blood is rising up to the west. With The Stinger; a riot control vehicular unit built before the apocalypse along with a refitted bomb blast vest, Batman makes his way across what remains of the United States to join forces with the man determined to neutralize the electronic menace - John Conner.",
         "popularity": 1.712,
         "poster_path": null,
         "release_date": "2014-02-22",
         "title": "Batman vs. The Terminator",
         "video": false,
         "vote_average": 6,
         "vote_count": 1
        },
        {
         "adult": false,
         "backdrop_path": null,
         "genre_ids": [
          18,
          28,
          80
         ],
         "id": 353425,
         "original_language": "en",
         "original_title": "Boyong Mañalac, Hoodlum Terminator",
         "overview": "He used to be an outlaw. Now, he is feared by the criminals.  Follow this action-filled chapter in the life of Boyong Manalac and witness how he terminates the notorious hoodlums one by one in cold blood.  Starring Eddie Garcia, as the hoodlum turned cop. Also stars Edu Manzano, John Regala, Marta Sonano and Pinky De Leon. Eddie Rodriguez directs.",
         "popularity": 2.01,
         "poster_path": null,
         "release_date": "1991-06-20",
         "title": "Boyong Mañalac, Hoodlum Terminator",
         "video": false,
         "vote_average": 0,
         "vote_count": 0
        },
        {
         "adult": false,
         "backdrop_path": "/nYOTAdIu5DnJl8xBLWPDVjHEHDD.jpg",
         "genre_ids": [
          99
         ],
         "id": 474586,
         "original_language": "en",
         "original_title": "Terminator - a film about JT LeRoy",
         "overview": "The literary persona JT LeRoy visiting Stockholm, Sweden in 2002, on a promotion tour for the novel \"Sarah\". Framed by footage of US highways and Heaviness \"Curtains of Rain\".",
         "popularity": 2.043,
         "poster_path": "/98ebH0C5V7e8Q4VaFO8FHS1U2zQ.jpg",
         "release_date": "2002-04-01",
         "title": "Terminator - a film about JT LeRoy",
         "video": false,
         "vote_average": 6,
         "vote_count": 1
        }
       ],
       "total_pages": 3,
       "total_results": 59
      },
      "text/plain": [
       "<IPython.core.display.JSON object>"
      ]
     },
     "execution_count": 8,
     "metadata": {
      "application/json": {
       "expanded": false,
       "root": "root"
      }
     },
     "output_type": "execute_result"
    }
   ],
   "source": [
    "search_movie_res = search_movie_res.json()\n",
    "\n",
    "# find movie id\n",
    "movie_info = {}\n",
    "\n",
    "for movie in search_movie_res[\"results\"]:\n",
    "    movie_info[\"name\"] = movie[\"original_title\"]\n",
    "    movie_info[\"id\"] = movie[\"id\"]\n",
    "    movie_info[\"release_date\"] = movie[\"release_date\"]\n",
    "    print(movie_info)\n",
    "    \n",
    "#movie_id = search_movie_res[\"results\"][0][\"id\"]\n",
    "#print(movie_id)\n",
    "\n",
    "movie_id = input()\n",
    "\n",
    "\n",
    "JSON(search_movie_res)"
   ]
  },
  {
   "cell_type": "code",
   "execution_count": 10,
   "metadata": {},
   "outputs": [
    {
     "name": "stdout",
     "output_type": "stream",
     "text": [
      "200\n",
      "{'original_title': 'Terminator: Dark Fate', 'release_date': '2019-10-23', 'runtime': 128, 'revenue': 261119292, 'vote_count': 2804, 'vote_average': 6.5, 'overview': 290}\n"
     ]
    }
   ],
   "source": [
    "# movie_id = input()\n",
    "\n",
    "try:\n",
    "    # movie details url\n",
    "    movie_details_url = f\"/movie/{movie_id}?api_key={api_key}\"\n",
    "\n",
    "    # get\n",
    "    movie_details_res = requests.get(url + movie_details_url)\n",
    "    print(movie_details_res.status_code)\n",
    "    movie_details_res = movie_details_res.json()\n",
    "\n",
    "    specific_info = {}\n",
    "\n",
    "    movie_keys = [\"original_title\", \"release_date\", \"runtime\", \"revenue\", \"vote_count\", \"vote_average\", \"overview\"]\n",
    "    for key in movie_keys:\n",
    "        if key == \"overview\":\n",
    "            specific_info[key] = len(movie_details_res[key])\n",
    "            #print({key:len(res[key])})\n",
    "        else:\n",
    "            specific_info[key] = movie_details_res[key]\n",
    "            #print({key:res[key]})\n",
    "    \n",
    "    print(specific_info)\n",
    "    #JSON(res)\n",
    "except:\n",
    "    print(\"An error occured. Please check your id.\")"
   ]
  },
  {
   "cell_type": "code",
   "execution_count": null,
   "metadata": {},
   "outputs": [],
   "source": []
  },
  {
   "cell_type": "markdown",
   "metadata": {},
   "source": [
    "## Task\n",
    "#### Search for you favorite actor/actress and return the information about him/her:\n",
    "- name\n",
    "- date of birth\n",
    "- place of birth\n",
    "- length of the biography"
   ]
  },
  {
   "cell_type": "code",
   "execution_count": 9,
   "metadata": {},
   "outputs": [
    {
     "name": "stdout",
     "output_type": "stream",
     "text": [
      "{'name': 'Jennifer Lawrence', 'id': 72129, 'movies': ['The Hunger Games', 'The Hunger Games: Catching Fire', 'The Hunger Games: Mockingjay - Part 1']}\n",
      "{'name': 'Taylor Lawrence', 'id': 1804307, 'movies': ['Excess Baggage']}\n"
     ]
    },
    {
     "data": {
      "application/json": {
       "page": 1,
       "results": [
        {
         "adult": false,
         "gender": 1,
         "id": 72129,
         "known_for": [
          {
           "adult": false,
           "backdrop_path": "/iYE1e8dbaQohYad8g6ySpmsSuj0.jpg",
           "genre_ids": [
            878,
            12,
            14
           ],
           "id": 70160,
           "media_type": "movie",
           "original_language": "en",
           "original_title": "The Hunger Games",
           "overview": "Every year in the ruins of what was once North America, the nation of Panem forces each of its twelve districts to send a teenage boy and girl to compete in the Hunger Games.  Part twisted entertainment, part government intimidation tactic, the Hunger Games are a nationally televised event in which “Tributes” must fight with one another until one survivor remains.  Pitted against highly-trained Tributes who have prepared for these Games their entire lives, Katniss is forced to rely upon her sharp instincts as well as the mentorship of drunken former victor Haymitch Abernathy.  If she’s ever to return home to District 12, Katniss must make impossible choices in the arena that weigh survival against humanity and life against love. The world will be watching.",
           "poster_path": "/iQK0pkTQC60XR3Zlu2pp8kujoqW.jpg",
           "release_date": "2012-03-12",
           "title": "The Hunger Games",
           "video": false,
           "vote_average": 7.2,
           "vote_count": 17566
          },
          {
           "adult": false,
           "backdrop_path": "/omoWcwdARBsGHdMdHUk0AQhS2Lp.jpg",
           "genre_ids": [
            12,
            28,
            878
           ],
           "id": 101299,
           "media_type": "movie",
           "original_language": "en",
           "original_title": "The Hunger Games: Catching Fire",
           "overview": "Katniss Everdeen has returned home safe after winning the 74th Annual Hunger Games along with fellow tribute Peeta Mellark. Winning means that they must turn around and leave their family and close friends, embarking on a \"Victor's Tour\" of the districts. Along the way Katniss senses that a rebellion is simmering, but the Capitol is still very much in control as President Snow prepares the 75th Annual Hunger Games (The Quarter Quell) - a competition that could change Panem forever.",
           "poster_path": "/7c1JtraYsjMMnk8Md0IMoyRzqZJ.jpg",
           "release_date": "2013-11-15",
           "title": "The Hunger Games: Catching Fire",
           "video": false,
           "vote_average": 7.4,
           "vote_count": 13650
          },
          {
           "adult": false,
           "backdrop_path": "/rYsdoUqkltpKZQWwCWXf55csXvL.jpg",
           "genre_ids": [
            878,
            12,
            53
           ],
           "id": 131631,
           "media_type": "movie",
           "original_language": "en",
           "original_title": "The Hunger Games: Mockingjay - Part 1",
           "overview": "Katniss Everdeen reluctantly becomes the symbol of a mass rebellion against the autocratic Capitol.",
           "poster_path": "/4FAA18ZIja70d1Tu5hr5cj2q1sB.jpg",
           "release_date": "2014-11-19",
           "title": "The Hunger Games: Mockingjay - Part 1",
           "video": false,
           "vote_average": 6.8,
           "vote_count": 12385
          }
         ],
         "known_for_department": "Acting",
         "name": "Jennifer Lawrence",
         "popularity": 15.341,
         "profile_path": "/f7cyXplSWuYFX1e7JxcNMiRfbaH.jpg"
        },
        {
         "adult": false,
         "gender": 1,
         "id": 1804307,
         "known_for": [
          {
           "adult": false,
           "backdrop_path": "/eHWkqOG6m2IUcr123l5TrSJmCrS.jpg",
           "genre_ids": [
            35,
            10749
           ],
           "id": 454585,
           "media_type": "movie",
           "original_language": "en",
           "original_title": "Excess Baggage",
           "overview": "Scott spends his days teaching at Space Defender camp, frustrated that he can't seem to find a woman with no baggage. His best friend Jake is no help, despite offering him his own brand of wisdom and truth.  Scott meets Jessica who is seemingly the perfect woman - brains, beauty and a sci-fi nerd. When Scott learns the truth about Jessica's past he is forced to rethink his long held relationship rules in favor of accepting someone for who they are ... and maybe even himself.",
           "poster_path": "/uIV3V5wKXYYjtybO9wkZy4njx9h.jpg",
           "release_date": "2015-12-07",
           "title": "Excess Baggage",
           "video": false,
           "vote_average": 2,
           "vote_count": 1
          }
         ],
         "known_for_department": "Acting",
         "name": "Taylor Lawrence",
         "popularity": 0.6,
         "profile_path": "/8lvuBGibfQDcuWxIyKVlCa5b4rs.jpg"
        }
       ],
       "total_pages": 1,
       "total_results": 2
      },
      "text/plain": [
       "<IPython.core.display.JSON object>"
      ]
     },
     "execution_count": 9,
     "metadata": {
      "application/json": {
       "expanded": false,
       "root": "root"
      }
     },
     "output_type": "execute_result"
    }
   ],
   "source": [
    "# name of the person we want to search ID for\n",
    "person_query = \"Jennifer Lawrence\"\n",
    "\n",
    "# person search url \n",
    "search_person_url = f\"/search/person?api_key={api_key}&query={person_query}\"\n",
    "\n",
    "#get\n",
    "search_person_res = requests.get(url + search_person_url).json()\n",
    "\n",
    "# a dictionary that help us find the correct actor/person, which I will cal later to get person's name, id, and movies\n",
    "person = {}\n",
    "\n",
    "\n",
    "for actor in search_person_res[\"results\"]:\n",
    "    person[\"name\"] = actor[\"name\"]    #name of person in dict\n",
    "    person[\"id\"] = actor[\"id\"]        #id of person in dict\n",
    "    \n",
    "    if actor[\"known_for\"] == []:      #some actors don't have any movies\n",
    "        person[\"movies\"] = \"N/A\"      #return N/A for them\n",
    "    else:  \n",
    "        person_movies =[]             #list of movies\n",
    "        for movie in actor[\"known_for\"]:\n",
    "            if \"name\" in movie.keys():     #name of movies appear differently, name\n",
    "                person_movies.append(movie[\"name\"])\n",
    "            elif \"original_name\" in movie.keys():     #original_name\n",
    "                person_movies.append(movie[\"original_name\"])\n",
    "            elif \"original_title\" in movie.keys():      #original_title\n",
    "                person_movies.append(movie[\"original_title\"])\n",
    "            elif \"title\" in movie.keys():        #title\n",
    "                person_movies.append(movie[\"title\"])      \n",
    "            else: \n",
    "                person_movies.append(\"N/A\")\n",
    "            person[\"movies\"] = person_movies\n",
    "    print(person)\n",
    "\n",
    "\n",
    "#person ID\n",
    "#person_id = input()     #user can add the id manually\n",
    "\n",
    "JSON(search_person_res)"
   ]
  },
  {
   "cell_type": "code",
   "execution_count": 11,
   "metadata": {},
   "outputs": [
    {
     "name": "stdout",
     "output_type": "stream",
     "text": [
      "Please enter the ID of the person (from above task): 72129\n",
      "{'name': 'Jennifer Lawrence', 'birthday': '1990-08-15', 'place_of_birth': 'Indian Hills, Kentucky, USA', 'biography': 1738}\n"
     ]
    }
   ],
   "source": [
    "try:\n",
    "    person_id = input(\"Please enter the ID of the person (from above task): \")     #user can add the id manually\n",
    "    #url of actor id\n",
    "    actor_details_url = f\"/person/{person_id}?api_key={api_key}\"\n",
    "\n",
    "    #get\n",
    "    actor_details_res = requests.get(url + actor_details_url).json()\n",
    "\n",
    "    # get details of the specific actor\n",
    "    actor_details = [\"name\", \"birthday\", \"place_of_birth\", \"biography\"]\n",
    "\n",
    "    specification = {}\n",
    "\n",
    "    for key in actor_details:\n",
    "        if key == \"biography\":\n",
    "            specification[key] = len(actor_details_res[key])\n",
    "        else:\n",
    "            specification[key] = actor_details_res[key]\n",
    "        \n",
    "    print(specification)\n",
    "\n",
    "    JSON(actor_details_res)\n",
    "except:\n",
    "     print(\"An error occured. Please check your id.\")"
   ]
  },
  {
   "cell_type": "code",
   "execution_count": null,
   "metadata": {},
   "outputs": [],
   "source": []
  },
  {
   "cell_type": "markdown",
   "metadata": {},
   "source": [
    "## Task\n",
    "#### Search for you favorite tv-show and return the information about it:\n",
    "- name\n",
    "- first air date\n",
    "- number of seasons\n",
    "- number of episodes\n",
    "- genres"
   ]
  },
  {
   "cell_type": "code",
   "execution_count": 11,
   "metadata": {},
   "outputs": [
    {
     "name": "stdout",
     "output_type": "stream",
     "text": [
      "{'name': 'Friends', 'id': 1668, 'first_air_date': '1994-09-22'}\n",
      "{'name': 'Thomas & Friends', 'id': 2304, 'first_air_date': '1984-10-09'}\n",
      "{'name': 'Garfield and Friends', 'id': 4606, 'first_air_date': '1988-09-17'}\n",
      "{'name': 'Barney & Friends', 'id': 4887, 'first_air_date': '1992-04-06'}\n",
      "{'name': 'Talking Tom and Friends', 'id': 81425, 'first_air_date': '2014-12-23'}\n",
      "{'name': 'Carol Burnett and Friends', 'id': 44333, 'first_air_date': '1972-10-01'}\n",
      "{'name': 'Super Friends', 'id': 14042, 'first_air_date': '1973-09-08'}\n",
      "{'name': 'Friends with Benefits', 'id': 9777, 'first_air_date': '2011-08-05'}\n",
      "{'name': 'Spider-Man and His Amazing Friends', 'id': 1269, 'first_air_date': '1981-09-12'}\n",
      "{'name': 'My Friends Tigger & Pooh', 'id': 3527, 'first_air_date': '2007-05-12'}\n",
      "{'name': \"Foster's Home for Imaginary Friends\", 'id': 1720, 'first_air_date': '2004-08-13'}\n",
      "{'name': 'Best Friends Whenever', 'id': 62783, 'first_air_date': '2015-06-26'}\n",
      "{'name': 'Happy Tree Friends', 'id': 1126, 'first_air_date': '1999-12-24'}\n",
      "{'name': 'Rocky & Bullwinkle & Friends', 'id': 27212, 'first_air_date': '1961-09-24'}\n",
      "{'name': 'Franklin and Friends', 'id': 46358, 'first_air_date': '2011-02-14'}\n",
      "{'name': 'Friends from College', 'id': 71890, 'first_air_date': '2017-07-14'}\n",
      "{'name': 'Angela and Friends', 'id': 31428, 'first_air_date': '2009-11-09'}\n",
      "{'name': 'Super Friends', 'id': 936, 'first_air_date': '1973-09-08'}\n",
      "{'name': 'The All-New Super Friends Hour', 'id': 10159, 'first_air_date': '1977-09-10'}\n",
      "{'name': 'Friends and Heroes', 'id': 33749, 'first_air_date': '2007-03-12'}\n"
     ]
    },
    {
     "name": "stdin",
     "output_type": "stream",
     "text": [
      " 1668\n"
     ]
    },
    {
     "data": {
      "application/json": {
       "page": 1,
       "results": [
        {
         "backdrop_path": "/l0qVZIpXtIo7km9u5Yqh0nKPOr5.jpg",
         "first_air_date": "1994-09-22",
         "genre_ids": [
          35,
          18
         ],
         "id": 1668,
         "name": "Friends",
         "origin_country": [
          "US"
         ],
         "original_language": "en",
         "original_name": "Friends",
         "overview": "The misadventures of a group of friends as they navigate the pitfalls of work, life and love in Manhattan.",
         "popularity": 153.556,
         "poster_path": "/f496cm9enuEsZkSPzCwnTESEK5s.jpg",
         "vote_average": 8.2,
         "vote_count": 3031
        },
        {
         "backdrop_path": "/wIe1HL7oMNwyltsqqx2sCPwNl4w.jpg",
         "first_air_date": "1984-10-09",
         "genre_ids": [
          16,
          10762
         ],
         "id": 2304,
         "name": "Thomas & Friends",
         "origin_country": [
          "GB"
         ],
         "original_language": "en",
         "original_name": "Thomas & Friends",
         "overview": "Thomas & Friends is a British children's television series, which had its first broadcast on the ITV network on 4 September 1984. It is based on The Railway Series of books by the Reverend Wilbert Awdry and his son, Christopher Awdry. These books deal with the adventures of a group of anthropomorphised locomotives and road vehicles who live on the fictional Island of Sodor. The books were based on stories Wilbert told to entertain his son, Christopher during his recovery from measles. From Series one to four, many of the stories are based on events from Awdry's personal experience.",
         "popularity": 31.947,
         "poster_path": "/ovJvWQ8E8aYShcRlTwpqKhuq7FA.jpg",
         "vote_average": 6.7,
         "vote_count": 44
        },
        {
         "backdrop_path": "/4TK1IREtfd7Ki8JWfwR1WahO5IP.jpg",
         "first_air_date": "1988-09-17",
         "genre_ids": [
          16,
          35
         ],
         "id": 4606,
         "name": "Garfield and Friends",
         "origin_country": [
          "US"
         ],
         "original_language": "en",
         "original_name": "Garfield and Friends",
         "overview": "The animated stories of Garfield the cat, Odie the dog, their owner Jon and the trouble they get into. And also Orson the Pig and his adventures on a farm with his fellow farm animals.",
         "popularity": 33.905,
         "poster_path": "/3HyTfZ9sSCoZPYrYHMffhRVm3Af.jpg",
         "vote_average": 7,
         "vote_count": 83
        },
        {
         "backdrop_path": null,
         "first_air_date": "1992-04-06",
         "genre_ids": [
          35,
          10751,
          10762
         ],
         "id": 4887,
         "name": "Barney & Friends",
         "origin_country": [
          "US"
         ],
         "original_language": "en",
         "original_name": "Barney & Friends",
         "overview": "Barney & Friends is an American children's television series aimed at children from ages 2 to 5. The series, which first aired on April 6, 1992, features the title character Barney, a purple anthropomorphic Tyrannosaurus rex who conveys educational messages through songs and small dance routines with a friendly, optimistic attitude.\n\nNew episodes have not been produced since 2009; however reruns continue to air on various PBS stations.",
         "popularity": 21.262,
         "poster_path": "/ijt54PA1pZ2ae68ODBk3vfWSK0e.jpg",
         "vote_average": 4.7,
         "vote_count": 36
        },
        {
         "backdrop_path": "/4wx26wMrnczun4QZRbTSVr4ZElI.jpg",
         "first_air_date": "2014-12-23",
         "genre_ids": [
          16,
          35,
          10762
         ],
         "id": 81425,
         "name": "Talking Tom and Friends",
         "origin_country": [
          "US"
         ],
         "original_language": "en",
         "original_name": "Talking Tom and Friends",
         "overview": "Armed with technological gear, great ideas and an unfailing sense of humour, Talking Tom and his friends are on a mission to reach stardom at all costs.",
         "popularity": 12.623,
         "poster_path": "/fVeSFv892YdLcvftJAZPSDBTpyp.jpg",
         "vote_average": 8,
         "vote_count": 7
        },
        {
         "backdrop_path": null,
         "first_air_date": "1972-10-01",
         "genre_ids": [
          35
         ],
         "id": 44333,
         "name": "Carol Burnett and Friends",
         "origin_country": [],
         "original_language": "en",
         "original_name": "Carol Burnett and Friends",
         "overview": "Carol Burnett and Friends was a syndicated, truncated version of The Carol Burnett Show, showing only the sketches.The show star's Carol Burnett and co-star's Tim Conway and Harvey Korman, Carol Burnett's related shows: The Carol Burnett Show Carol Burnett and Company The Carol Burnett Show (1991) Carol & Company",
         "popularity": 10.061,
         "poster_path": null,
         "vote_average": 4.8,
         "vote_count": 2
        },
        {
         "backdrop_path": null,
         "first_air_date": "1973-09-08",
         "genre_ids": [
          16,
          10759
         ],
         "id": 14042,
         "name": "Super Friends",
         "origin_country": [
          "US"
         ],
         "original_language": "en",
         "original_name": "Super Friends",
         "overview": "",
         "popularity": 12.166,
         "poster_path": null,
         "vote_average": 7.5,
         "vote_count": 2
        },
        {
         "backdrop_path": "/q38iwBEFZtwOHazJC77zcAMqLJP.jpg",
         "first_air_date": "2011-08-05",
         "genre_ids": [
          35,
          18
         ],
         "id": 9777,
         "name": "Friends with Benefits",
         "origin_country": [
          "US"
         ],
         "original_language": "en",
         "original_name": "Friends with Benefits",
         "overview": "Revolving around a group of twentysomething singles as they navigate the difficult, sometimes rewarding, often confusing world of dating. Loyal and devoted to one another, these friends are never too busy to help a member of the group who might be in need. In fact, their companionship often extends into a more intimate setting - the bedroom.",
         "popularity": 13.125,
         "poster_path": "/7f2ORzPaTfURy2Iaf6SbTwmaS9x.jpg",
         "vote_average": 6.1,
         "vote_count": 15
        },
        {
         "backdrop_path": "/cL8MPDoy00GtVnUvhhNJXBcreNU.jpg",
         "first_air_date": "1981-09-12",
         "genre_ids": [
          16,
          10751,
          10759,
          10765
         ],
         "id": 1269,
         "name": "Spider-Man and His Amazing Friends",
         "origin_country": [
          "US"
         ],
         "original_language": "en",
         "original_name": "Spider-Man and His Amazing Friends",
         "overview": "Spider-Man and His Amazing Friends is an American animated television series produced by Marvel Productions starring established Marvel Comics characters Spider-Man and Iceman and an original character, Firestar. As a trio called the Spider-Friends, they fought against various villains.",
         "popularity": 29.159,
         "poster_path": "/4GjLlD5u8LtkF5XJ75FlPW16fHG.jpg",
         "vote_average": 7.2,
         "vote_count": 41
        },
        {
         "backdrop_path": "/njylQZh5gvVEVBq66B7Avi5OKIl.jpg",
         "first_air_date": "2007-05-12",
         "genre_ids": [
          16,
          10762
         ],
         "id": 3527,
         "name": "My Friends Tigger & Pooh",
         "origin_country": [
          "US"
         ],
         "original_language": "en",
         "original_name": "My Friends Tigger & Pooh",
         "overview": "Pooh, Tigger, and friends from the Hundred Acre Wood welcome new neighbors — an adorable six-year-old girl named Darby and her puppy, Buster. With the help of adventurous super sleuths Tigger and Pooh, every episode revolves around the solving of a mystery and an interactive curriculum that encourages viewers to help them out.",
         "popularity": 17.775,
         "poster_path": "/qdQnGsb3X1ogoG5lO0YEflNAfQ5.jpg",
         "vote_average": 7.5,
         "vote_count": 6
        },
        {
         "backdrop_path": "/r6NeRD3diZI7dWEFrRhrwYWoxyB.jpg",
         "first_air_date": "2004-08-13",
         "genre_ids": [
          16,
          35,
          10751,
          10765
         ],
         "id": 1720,
         "name": "Foster's Home for Imaginary Friends",
         "origin_country": [
          "US"
         ],
         "original_language": "en",
         "original_name": "Foster's Home for Imaginary Friends",
         "overview": "Foster's Home for Imaginary Friends is an animated television series that aired from August 2004 to May 2009 for a total of 79 episodes in six seasons. The premise is based on a simple question: In a world... where imaginary friends are living, tangible beings, what happens to those friends when the kids grow up? Are they abandoned, or do they live on?\n\nAccording to Craig McCracken, they come to Foster's, of course! A home for imaginary friends whose kids have outgrown them, Foster's is a place where friends can live together until they are adopted by a child who needs them. The show follows Mac, a shy and creative 8 year old boy, whose imaginary friend Bloo is thrown out of his home by his mother and forced to come live at Foster's. Mac doesn't want Bloo to be adopted by another kid, so it's agreed that Bloo will not be put up for adoption, provided that Mac comes to visit him every day. Bloo's egotistical, mischievous nature is the complete opposite of Mac's, and together the two cause all manner of chaos throughout the house.",
         "popularity": 26.118,
         "poster_path": "/aerZJVODYwji4BnyWrHFmF3JxhX.jpg",
         "vote_average": 7.3,
         "vote_count": 141
        },
        {
         "backdrop_path": "/vZjTsWr3jKSdy4yoHoGpkOiaGvp.jpg",
         "first_air_date": "2015-06-26",
         "genre_ids": [
          35,
          10751,
          10765
         ],
         "id": 62783,
         "name": "Best Friends Whenever",
         "origin_country": [
          "US"
         ],
         "original_language": "en",
         "original_name": "Best Friends Whenever",
         "overview": "The live-action comedy follows best friends Shelby and Cyd who, when their aspiring scientist friend Barry’s invention goes awry, gain the power to leap forward and backward in time whenever they want – and sometimes when they don’t. Now, they experience the twists and turns of friendship and must decide between fixing mistakes in the past or catching a glimpse of the future. While Barry and his assistant, Naldo, try to figure out how to replicate time travel for themselves, Cyd and Shelby use their newfound power to navigate high school life and Shelby’s mischievous twin brothers, Bret and Chet.",
         "popularity": 11.482,
         "poster_path": "/euWwJsDLPzfPny96UrbD13XOFSz.jpg",
         "vote_average": 8.7,
         "vote_count": 32
        },
        {
         "backdrop_path": null,
         "first_air_date": "1999-12-24",
         "genre_ids": [
          16,
          35
         ],
         "id": 1126,
         "name": "Happy Tree Friends",
         "origin_country": [
          "CA",
          "US"
         ],
         "original_language": "en",
         "original_name": "Happy Tree Friends",
         "overview": "This action and adventure comedy is drawn in simple appearance and combines cute forest animals with extreme graphic violence. Each episode revolves around the characters enduring accidental events of bloodshed, pain, dismemberment and/or death.",
         "popularity": 12.479,
         "poster_path": "/2rYqJg1OzaDlc5kiBK4IdgrELMf.jpg",
         "vote_average": 7.6,
         "vote_count": 268
        },
        {
         "backdrop_path": null,
         "first_air_date": "1961-09-24",
         "genre_ids": [
          16
         ],
         "id": 27212,
         "name": "Rocky & Bullwinkle & Friends",
         "origin_country": [
          "US"
         ],
         "original_language": "en",
         "original_name": "Rocky & Bullwinkle & Friends",
         "overview": "",
         "popularity": 13.614,
         "poster_path": "/59FzvrZp6U93ciYIeI8FpHuxAly.jpg",
         "vote_average": 6.8,
         "vote_count": 10
        },
        {
         "backdrop_path": "/wELmlbySyjApSBgzO0HEj5GMXiA.jpg",
         "first_air_date": "2011-02-14",
         "genre_ids": [
          16,
          10762
         ],
         "id": 46358,
         "name": "Franklin and Friends",
         "origin_country": [
          "CA"
         ],
         "original_language": "en",
         "original_name": "Franklin and Friends",
         "overview": "Franklin and Friends is a Canadian CGI children's television series produced by Nelvana. It is the second adaptation of the classic characters from the Franklin the Turtle series of children's books written by Paulette Bourgeois and illustrated by Brenda Clark, the first of which was Franklin, which was also produced by Nelvana. The new series was announced by Nelvana on September 28, 2010, and it debuted on Treehouse TV on March 4, 2011. The theme song itself is a revamped up to date version of the original series theme, \"Hey It's Franklin\". It premiered in the United States on Nickelodeon on February 13, 2012 and Nick Jr. on March 1, 2012. It also premiered in the Singapore on Mediacorp on February 15, 2012.",
         "popularity": 6.163,
         "poster_path": "/3DC57pU3VcDp1uDo1q9Emco1tkY.jpg",
         "vote_average": 5.5,
         "vote_count": 2
        },
        {
         "backdrop_path": "/xqiSSJPhFB892TxFmgC8S3Nn3IP.jpg",
         "first_air_date": "2017-07-14",
         "genre_ids": [
          35
         ],
         "id": 71890,
         "name": "Friends from College",
         "origin_country": [
          "US"
         ],
         "original_language": "en",
         "original_name": "Friends from College",
         "overview": "Twenty years after graduation, a tight-knit group of college friends reconnects and discovers that love hasn't gotten easier with age.",
         "popularity": 10.476,
         "poster_path": "/38HzAmLPNALw0fSdZ7rMH0EymqC.jpg",
         "vote_average": 6.9,
         "vote_count": 32
        },
        {
         "backdrop_path": "/tTOyhem0IMiDEytNZI3HKyoBZpq.jpg",
         "first_air_date": "2009-11-09",
         "genre_ids": [
          10767
         ],
         "id": 31428,
         "name": "Angela and Friends",
         "origin_country": [
          "GB"
         ],
         "original_language": "en",
         "original_name": "Angela and Friends",
         "overview": "Daily chat show, hosted by Angela Griffin, that combines topical debate with five lifestyle clubs: Diet and Health, Beauty, Books and Travel, Entertainment and Fashion. ",
         "popularity": 6.569,
         "poster_path": "/j02elNgo62LETB22E3iGmcgyAMI.jpg",
         "vote_average": 0,
         "vote_count": 0
        },
        {
         "backdrop_path": null,
         "first_air_date": "1973-09-08",
         "genre_ids": [
          16,
          10765
         ],
         "id": 936,
         "name": "Super Friends",
         "origin_country": [
          "US"
         ],
         "original_language": "en",
         "original_name": "Super Friends",
         "overview": "Super Friends is an American animated television series about a team of superheroes, which ran from 1973 to 1986 on ABC as part of its Saturday morning cartoon lineup. It was produced by Hanna-Barbera and was based on the Justice League of America and associated comic book characters published by DC Comics.\n\nThe name of the program have been variously represented at different points in its broadcast history. There were a total of 109 episodes and two backdoor-pilot episodes of The New Scooby-Doo Movies, with Batman and Robin appearing in \"The Dynamic Scooby Doo Affair\" and \"The Caped Crusader Caper.\"",
         "popularity": 6.748,
         "poster_path": "/6RsxBfu5Cb3GFokYx0MFrvL59WN.jpg",
         "vote_average": 7.7,
         "vote_count": 28
        },
        {
         "backdrop_path": null,
         "first_air_date": "1977-09-10",
         "genre_ids": [
          16,
          10765
         ],
         "id": 10159,
         "name": "The All-New Super Friends Hour",
         "origin_country": [
          "US"
         ],
         "original_language": "en",
         "original_name": "The All-New Super Friends Hour",
         "overview": "The All-New Super Friends Hour is an American animated television series about a team of superheroes which ran from September 10, 1977, to September 2, 1978, on ABC. It was produced by Hanna-Barbera and is based on the Justice League and associated comic book characters published by DC Comics.",
         "popularity": 14.274,
         "poster_path": "/k1RUrHRmx1QjdLIxOJqCte6HGD4.jpg",
         "vote_average": 6.9,
         "vote_count": 10
        },
        {
         "backdrop_path": null,
         "first_air_date": "2007-03-12",
         "genre_ids": [
          16,
          10751,
          10759
         ],
         "id": 33749,
         "name": "Friends and Heroes",
         "origin_country": [],
         "original_language": "en",
         "original_name": "Friends and Heroes",
         "overview": "Friends and Heroes is a Christian children's program that airs on TBN, Smile of a Child TV, and was also shown on BBC TV. The show is both traditionally animated and computer animated. It takes place from 69 - 71 AD. There are three series each of 13 Episodes: Series 1 is set in Alexandria, Egypt; Series 2 in Jerusalem and Series 3 in Rome. The series was created by Brian D. Brown and Eric J. Danenberg, who also worked on The Storykeepers.",
         "popularity": 5.363,
         "poster_path": null,
         "vote_average": 0,
         "vote_count": 0
        }
       ],
       "total_pages": 13,
       "total_results": 248
      },
      "text/plain": [
       "<IPython.core.display.JSON object>"
      ]
     },
     "execution_count": 11,
     "metadata": {
      "application/json": {
       "expanded": false,
       "root": "root"
      }
     },
     "output_type": "execute_result"
    }
   ],
   "source": [
    "#name of the TV-show\n",
    "tv_query = \"friends\"\n",
    "\n",
    "# url id of tv-show\n",
    "search_tv_show_url = f\"/search/tv?api_key={api_key}&query={tv_query}\"\n",
    "\n",
    "# get\n",
    "search_tv_show_res = requests.get(url + search_tv_show_url).json()\n",
    "\n",
    "# a dictionary to help us find the correct tv_show\n",
    "tv_show_info = {}\n",
    "\n",
    "for show in search_tv_show_res[\"results\"]:\n",
    "    tv_show_info[\"name\"] = show[\"original_name\"]\n",
    "    tv_show_info[\"id\"] = show[\"id\"]\n",
    "    tv_show_info[\"first_air_date\"] = show[\"first_air_date\"]\n",
    "    print(tv_show_info)\n",
    "    \n",
    "tv_show_id = input()\n",
    "JSON(search_tv_show_res)"
   ]
  },
  {
   "cell_type": "code",
   "execution_count": 12,
   "metadata": {},
   "outputs": [
    {
     "name": "stdout",
     "output_type": "stream",
     "text": [
      "{'original_name': 'Friends', 'first_air_date': '1994-09-22', 'number_of_seasons': 10, 'number_of_episodes': 236, 'genres': ['Comedy', 'Drama']}\n"
     ]
    },
    {
     "data": {
      "application/json": {
       "backdrop_path": "/l0qVZIpXtIo7km9u5Yqh0nKPOr5.jpg",
       "created_by": [
        {
         "credit_id": "525710bf19c295731c03280b",
         "gender": 1,
         "id": 163461,
         "name": "Marta Kauffman",
         "profile_path": null
        },
        {
         "credit_id": "525710bf19c295731c032811",
         "gender": 2,
         "id": 1216352,
         "name": "David Crane",
         "profile_path": "/wXb8gWv24sX24LFuE6rSpJCjWwE.jpg"
        }
       ],
       "episode_run_time": [
        25
       ],
       "first_air_date": "1994-09-22",
       "genres": [
        {
         "id": 35,
         "name": "Comedy"
        },
        {
         "id": 18,
         "name": "Drama"
        }
       ],
       "homepage": "",
       "id": 1668,
       "in_production": false,
       "languages": [
        "en"
       ],
       "last_air_date": "2004-05-06",
       "last_episode_to_air": {
        "air_date": "2004-05-06",
        "episode_number": 18,
        "id": 87634,
        "name": "The Last One (2)",
        "overview": "Ross and Phoebe chase Rachel to the airport, but end up at the wrong one.  They narrowly make it to the right airport, where Ross declares his love for Rachel, but she gets on the plane anyway.  A rejected Ross returns home, where he finds a message on his answering machine, revealing that Rachel got off the plane, just as the real thing shows up behind him.  They decide to be together.  Meanwhile, Chandler and Monica finish packing for their move to the suburbs, and Joey loses Chick Jr. and Duck Jr. in the foosball table.",
        "production_code": "176267",
        "season_number": 10,
        "show_id": 1668,
        "still_path": "/pbMQgT7XHSAKE2oBk548wRt7jbL.jpg",
        "vote_average": 8.208,
        "vote_count": 12
       },
       "name": "Friends",
       "networks": [
        {
         "id": 6,
         "logo_path": "/o3OedEP0f9mfZr33jz2BfXOUK5.png",
         "name": "NBC",
         "origin_country": "US"
        }
       ],
       "next_episode_to_air": null,
       "number_of_episodes": 236,
       "number_of_seasons": 10,
       "origin_country": [
        "US"
       ],
       "original_language": "en",
       "original_name": "Friends",
       "overview": "The misadventures of a group of friends as they navigate the pitfalls of work, life and love in Manhattan.",
       "popularity": 153.556,
       "poster_path": "/f496cm9enuEsZkSPzCwnTESEK5s.jpg",
       "production_companies": [
        {
         "id": 1957,
         "logo_path": "/3T19XSr6yqaLNK8uJWFImPgRax0.png",
         "name": "Warner Bros. Television",
         "origin_country": "US"
        },
        {
         "id": 31810,
         "logo_path": null,
         "name": "Bright/Kauffman/Crane Productions",
         "origin_country": "US"
        }
       ],
       "seasons": [
        {
         "air_date": "2001-02-15",
         "episode_count": 42,
         "id": 4583,
         "name": "Specials",
         "overview": "Special features, bonus material, producer cuts of episodes and music videos released as part of the boxed set. Episode Order and information from the boxed set booklet and disk menus.",
         "poster_path": "/ah4RLZj0cuQi5Ge85dw7u8wU2Bm.jpg",
         "season_number": 0
        },
        {
         "air_date": "1994-09-22",
         "episode_count": 24,
         "id": 4573,
         "name": "Season 1",
         "overview": "",
         "poster_path": "/doPCLr5MdHCc98Q8tnOeAmjQiz1.jpg",
         "season_number": 1
        },
        {
         "air_date": "1995-09-21",
         "episode_count": 24,
         "id": 4574,
         "name": "Season 2",
         "overview": "",
         "poster_path": "/7jTxuvYLyWBZJpxnSUhU8a7nP9X.jpg",
         "season_number": 2
        },
        {
         "air_date": "1996-09-16",
         "episode_count": 25,
         "id": 4575,
         "name": "Season 3",
         "overview": "",
         "poster_path": "/lYOYwYjHkJ754lvNMiErDk548kQ.jpg",
         "season_number": 3
        },
        {
         "air_date": "1997-09-25",
         "episode_count": 24,
         "id": 4576,
         "name": "Season 4",
         "overview": "",
         "poster_path": "/sBCM3OvLCtxEn3V9KAmuhnxUlhk.jpg",
         "season_number": 4
        },
        {
         "air_date": "1998-09-24",
         "episode_count": 24,
         "id": 4577,
         "name": "Season 5",
         "overview": "",
         "poster_path": "/eHERzVmS0FalWbiG5xhL9N9WkWN.jpg",
         "season_number": 5
        },
        {
         "air_date": "1999-09-23",
         "episode_count": 25,
         "id": 4578,
         "name": "Season 6",
         "overview": "",
         "poster_path": "/17CVMqSQPpfMLZEV50rFjtFsQbJ.jpg",
         "season_number": 6
        },
        {
         "air_date": "2000-10-12",
         "episode_count": 24,
         "id": 4579,
         "name": "Season 7",
         "overview": "",
         "poster_path": "/zkgqWPWzgy97N2646P4qKDSxZ27.jpg",
         "season_number": 7
        },
        {
         "air_date": "2001-09-27",
         "episode_count": 24,
         "id": 4580,
         "name": "Season 8",
         "overview": "",
         "poster_path": "/eX6ykN12njMQLHX4VnVOwhjCBJ3.jpg",
         "season_number": 8
        },
        {
         "air_date": "2002-09-23",
         "episode_count": 24,
         "id": 4581,
         "name": "Season 9",
         "overview": "",
         "poster_path": "/6ZkatWeJV8Ggbk45h41aegYc7B2.jpg",
         "season_number": 9
        },
        {
         "air_date": "2003-09-25",
         "episode_count": 18,
         "id": 4582,
         "name": "Season 10",
         "overview": "",
         "poster_path": "/ez2r6aKeoRhlL6gUK7TI9I4O8BZ.jpg",
         "season_number": 10
        }
       ],
       "status": "Ended",
       "type": "Scripted",
       "vote_average": 8.2,
       "vote_count": 3033
      },
      "text/plain": [
       "<IPython.core.display.JSON object>"
      ]
     },
     "execution_count": 12,
     "metadata": {
      "application/json": {
       "expanded": false,
       "root": "root"
      }
     },
     "output_type": "execute_result"
    }
   ],
   "source": [
    "#tv_show_id = input()\n",
    "\n",
    "#url of tv_show info\n",
    "tv_show_details_url = f\"/tv/{tv_show_id}?api_key={api_key}\"\n",
    "\n",
    "#get\n",
    "tv_show_details_res = requests.get(url + tv_show_details_url).json()\n",
    "\n",
    "tv_show_specs = {}\n",
    "tv_show_details = [\"original_name\", \"first_air_date\", \"number_of_seasons\", \"number_of_episodes\", \"genres\"]\n",
    "for info in tv_show_details:\n",
    "    if info == \"genres\":\n",
    "        genres = []\n",
    "        for genre in tv_show_details_res[info]:\n",
    "            genres.append(genre[\"name\"])\n",
    "            tv_show_specs[info] = genres\n",
    "    else:\n",
    "        tv_show_specs[info] = tv_show_details_res[info]\n",
    "    \n",
    "\n",
    "print(tv_show_specs)\n",
    "    \n",
    "\n",
    "JSON(tv_show_details_res)"
   ]
  },
  {
   "cell_type": "code",
   "execution_count": null,
   "metadata": {},
   "outputs": [],
   "source": []
  },
  {
   "cell_type": "markdown",
   "metadata": {},
   "source": [
    "## Task \n",
    "#### Find top 5 trending:\n",
    "- movies\n",
    "- tv-shows\n",
    "- people"
   ]
  },
  {
   "cell_type": "code",
   "execution_count": 13,
   "metadata": {},
   "outputs": [
    {
     "name": "stdout",
     "output_type": "stream",
     "text": [
      "{1: 'The Devil All the Time', 2: 'Mulan', 3: 'El practicante', 4: 'Antebellum', 5: 'Lost Girls and Love Hotels'}\n"
     ]
    }
   ],
   "source": [
    "week_or_day = \"day\"\n",
    "# trending movie\n",
    "trending_movie_url = f\"/trending/movie/{week_or_day}?api_key={api_key}\"\n",
    "\n",
    "#get\n",
    "trending_movie_res = requests.get(url + trending_movie_url).json()\n",
    "\n",
    "top_trending_movies = {}\n",
    "rank = 1\n",
    "\n",
    "for top_trending in trending_movie_res[\"results\"][:5]:\n",
    "    top_trending_movies[rank] = top_trending[\"original_title\"]\n",
    "    rank += 1\n",
    "    \n",
    "print(top_trending_movies)\n",
    "#JSON(trending_movie_res)"
   ]
  },
  {
   "cell_type": "code",
   "execution_count": 14,
   "metadata": {},
   "outputs": [
    {
     "name": "stdout",
     "output_type": "stream",
     "text": [
      "{1: 'Ratched', 2: 'Raised by Wolves', 3: 'The Boys', 4: 'Jurassic World: Camp Cretaceous', 5: 'Dragon’s Dogma'}\n"
     ]
    }
   ],
   "source": [
    "# trending tv show\n",
    "trending_show_url = f\"/trending/tv/{week_or_day}?api_key={api_key}\"\n",
    "\n",
    "#get\n",
    "trending_show_res = requests.get(url + trending_show_url).json()\n",
    "\n",
    "top_trending_shows = {}\n",
    "rank = 1\n",
    "\n",
    "for top_trending in trending_show_res[\"results\"][:5]:\n",
    "    top_trending_shows[rank] = top_trending[\"name\"]\n",
    "    rank += 1\n",
    "    \n",
    "print(top_trending_shows)\n",
    "\n",
    "#JSON(trending_show_res)"
   ]
  },
  {
   "cell_type": "code",
   "execution_count": 15,
   "metadata": {},
   "outputs": [
    {
     "name": "stdout",
     "output_type": "stream",
     "text": [
      "{1: 'Tom Hanks', 2: 'Tatiana Maslany', 3: 'Henry Cavill', 4: 'Ian Floodgate', 5: 'Leonardo DiCaprio'}\n"
     ]
    }
   ],
   "source": [
    "# trending tv show\n",
    "trending_person_url = f\"/trending/person/{week_or_day}?api_key={api_key}\"\n",
    "\n",
    "#get\n",
    "trending_person_res = requests.get(url + trending_person_url).json()\n",
    "\n",
    "top_trending_people = {}\n",
    "rank = 1\n",
    "\n",
    "for top_trending in trending_person_res[\"results\"][:5]:\n",
    "    top_trending_people[rank] = top_trending[\"name\"]\n",
    "    rank += 1\n",
    "    \n",
    "print(top_trending_people)\n",
    "#JSON(trending_person_res)"
   ]
  },
  {
   "cell_type": "code",
   "execution_count": null,
   "metadata": {},
   "outputs": [],
   "source": []
  }
 ],
 "metadata": {
  "kernelspec": {
   "display_name": "Python 3",
   "language": "python",
   "name": "python3"
  },
  "language_info": {
   "codemirror_mode": {
    "name": "ipython",
    "version": 3
   },
   "file_extension": ".py",
   "mimetype": "text/x-python",
   "name": "python",
   "nbconvert_exporter": "python",
   "pygments_lexer": "ipython3",
   "version": "3.8.5"
  }
 },
 "nbformat": 4,
 "nbformat_minor": 4
}
